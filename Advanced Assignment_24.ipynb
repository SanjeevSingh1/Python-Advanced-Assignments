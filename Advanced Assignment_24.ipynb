{
 "cells": [
  {
   "cell_type": "markdown",
   "id": "3d89097a",
   "metadata": {},
   "source": [
    "# Q1. Is it permissible to use several import statements to import the same module? What would the goal be? Can you think of a situation where it would be beneficial?"
   ]
  },
  {
   "cell_type": "markdown",
   "id": "784896a8",
   "metadata": {},
   "source": [
    "Yes, it is permissible to use several import statements to import the same module. It is used in case when we have to import multiple functions from same module."
   ]
  },
  {
   "cell_type": "markdown",
   "id": "2c76495a",
   "metadata": {},
   "source": [
    "# Q2. What are some of a module's characteristics? (Name at least one.)"
   ]
  },
  {
   "cell_type": "markdown",
   "id": "0e5c88fb",
   "metadata": {},
   "source": [
    "__`name`__ : It returns the name of the module. \n",
    "\n",
    "__`doc`__ : It denotes the documentation string line written in a module code. \n",
    "\n",
    "__`file`__ : It holds the name and path of the module file from which it is loaded . \n",
    "\n",
    "__`dict`__ : It return a dictionary object of module attributes, functions and other definitions and their respective values."
   ]
  },
  {
   "cell_type": "markdown",
   "id": "90be8602",
   "metadata": {},
   "source": [
    "# Q3. Circular importing, such as when two modules import each other, can lead to dependencies and bugs that aren't visible. How can you go about creating a program that avoids mutual importing?"
   ]
  },
  {
   "cell_type": "markdown",
   "id": "691e0ac5",
   "metadata": {},
   "source": [
    "Circular importing means importing the two modules in each other. If suppose we are wokring in __`MOD1.py`__ file and it is importing some function say F2() from some other module say __`MOD2.py`__ file or we can do vice-versa. \n",
    "What will happen is: This will give an __`import error`__. \n",
    "    \n",
    "This is because when we import F2() function from module __`MOD2.py`__, then this will execute __`MOD2.py`__ file. And in __`MOD2.py`__ file there is an another statement of importing\n",
    "__`MOD1.py`__ module. \n",
    "\n",
    "This will result in endless loop. To avoid this error just do one thing- We can use if `__name__` == `__main__`.\n",
    "\n",
    "In the function, you can't directly refer to the function in the program. The addition of this sentence avoids the endless loop of the program"
   ]
  },
  {
   "cell_type": "markdown",
   "id": "431f5428",
   "metadata": {},
   "source": [
    "# Q4. Why is _ all _ in Python?\n"
   ]
  },
  {
   "cell_type": "markdown",
   "id": "00d51fa5",
   "metadata": {},
   "source": [
    "It specifies all the modules present in the particular library and those can be called when we use import *\n"
   ]
  },
  {
   "cell_type": "markdown",
   "id": "accf0f37",
   "metadata": {},
   "source": [
    "# Q5. In what situation is it useful to refer to the _ name _ attribute or the string '_ main _'?"
   ]
  },
  {
   "cell_type": "markdown",
   "id": "cf9a1765",
   "metadata": {},
   "source": [
    "During the time of execution of the code if we want to refer the module in which we are working on then we uses name attribute. In that case it will return the module in which we are working on. Suppose if that moudl is being imported from some other module then name will have the name of that moudle from where the current module has been imported. The current module in which we are working is refer to the string '_ main _'."
   ]
  },
  {
   "cell_type": "markdown",
   "id": "017ffcdc",
   "metadata": {},
   "source": [
    "# Q6. What are some of the benefits of attaching a program counter to the RPN interpreter application, which interprets an RPN script line by line?"
   ]
  },
  {
   "cell_type": "markdown",
   "id": "87563c5c",
   "metadata": {},
   "source": [
    "RPN saves time and keystrokes. You avoid using and keeping track of parentheses while doing calculations. The process is similar to the way you learned math on paper. You can see the intermediary results as you perform your computations rather than just the answer at the end."
   ]
  },
  {
   "cell_type": "markdown",
   "id": "f47b26c0",
   "metadata": {},
   "source": [
    "# Q7. What are the minimum expressions or statements (or both) that you'd need to render a basic programming language like RPN primitive but complete— that is, capable of carrying out any computerised task theoretically possible?"
   ]
  },
  {
   "cell_type": "markdown",
   "id": "a26fd334",
   "metadata": {},
   "source": [
    "Notations  : +-/*\n",
    "\n",
    "These are the basic notations we require to carry out a computerised task , like RPN Primitive. We also need a particular data structure for storing elements from a statements except operators"
   ]
  },
  {
   "cell_type": "code",
   "execution_count": null,
   "id": "1797c9bb",
   "metadata": {},
   "outputs": [],
   "source": []
  }
 ],
 "metadata": {
  "kernelspec": {
   "display_name": "Python 3 (ipykernel)",
   "language": "python",
   "name": "python3"
  },
  "language_info": {
   "codemirror_mode": {
    "name": "ipython",
    "version": 3
   },
   "file_extension": ".py",
   "mimetype": "text/x-python",
   "name": "python",
   "nbconvert_exporter": "python",
   "pygments_lexer": "ipython3",
   "version": "3.11.5"
  }
 },
 "nbformat": 4,
 "nbformat_minor": 5
}
