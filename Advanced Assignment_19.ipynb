{
 "cells": [
  {
   "cell_type": "markdown",
   "id": "0e205713",
   "metadata": {},
   "source": [
    "# Q1. Define the relationship between a class and its instances. Is it a one-to-one or a one-to-many partnership, for example?"
   ]
  },
  {
   "cell_type": "markdown",
   "id": "aeb49f38",
   "metadata": {},
   "source": [
    " Class is abstraction of an real world entity. It consists of attributes and methods. Instance is an object of a class. It one to many relationship between class and its instatnces."
   ]
  },
  {
   "cell_type": "markdown",
   "id": "133284dd",
   "metadata": {},
   "source": [
    "# Q2. What kind of data is held only in an instance?"
   ]
  },
  {
   "cell_type": "markdown",
   "id": "8950fc09",
   "metadata": {},
   "source": [
    "Instance objects contains the Instance variables which are specific to that specific Instance object.\n"
   ]
  },
  {
   "cell_type": "markdown",
   "id": "620bcfd9",
   "metadata": {},
   "source": [
    "# Q3. What kind of knowledge is stored in a class?"
   ]
  },
  {
   "cell_type": "markdown",
   "id": "6fedcb70",
   "metadata": {},
   "source": [
    "Class creates a user-defined data structure, which holds its own data members and member functions,which can be accessed and used by creating an instance of that class. A class is like a blueprint for an object. "
   ]
  },
  {
   "cell_type": "markdown",
   "id": "31ad4873",
   "metadata": {},
   "source": [
    "# Q4. What exactly is a method, and how is it different from a regular function?"
   ]
  },
  {
   "cell_type": "markdown",
   "id": "ae05ebd6",
   "metadata": {},
   "source": [
    "The methods with a class can be used to access the insatnce variables of its instance. So, the object's state can be modified by its method.Function cant access the attributes of an instance of a class or cant modify the state of the object."
   ]
  },
  {
   "cell_type": "markdown",
   "id": "5115fc10",
   "metadata": {},
   "source": [
    "# Q5. Is inheritance supported in Python, and if so, what is the syntax?"
   ]
  },
  {
   "cell_type": "code",
   "execution_count": 1,
   "id": "1483379e",
   "metadata": {},
   "outputs": [
    {
     "name": "stdout",
     "output_type": "stream",
     "text": [
      "Class of Instance: <class '__main__.B'>\n",
      "Base class: (<class '__main__.A'>,)\n"
     ]
    }
   ],
   "source": [
    "# Inheritance is supported by python\n",
    "#       Example of Inheritance:\n",
    "\n",
    "\n",
    "class A:\n",
    "        var=1\n",
    "        def __init__(self):\n",
    "            pass\n",
    "class B(A): # class B is detived from class A\n",
    "    def __init__(self):\n",
    "        super().__init__()\n",
    "c=B()\n",
    "print(\"Class of Instance:\",c.__class__)\n",
    "print(\"Base class:\",c.__class__.__bases__)"
   ]
  },
  {
   "cell_type": "markdown",
   "id": "449869b9",
   "metadata": {},
   "source": [
    "# Q6. How much encapsulation (making instance or class variables private) does Python support?"
   ]
  },
  {
   "cell_type": "markdown",
   "id": "826c763b",
   "metadata": {},
   "source": [
    "Encapsulation prevents from accessing accidentally, but not intentionally. The private attributes and methods are not really hidden. The private attributes can be accessed within the object method."
   ]
  },
  {
   "cell_type": "markdown",
   "id": "5852f905",
   "metadata": {},
   "source": [
    "# Q7. How do you distinguish between a class variable and an instance variable?"
   ]
  },
  {
   "cell_type": "markdown",
   "id": "34209cbc",
   "metadata": {},
   "source": [
    "The class attribute is available to all the instance objects of that class. Instance variable is accessible only to the object or Instance of that class."
   ]
  },
  {
   "cell_type": "markdown",
   "id": "a2b6be8d",
   "metadata": {},
   "source": [
    "# Q8. When, if ever, can self be included in a class&#39;s method definitions?"
   ]
  },
  {
   "cell_type": "markdown",
   "id": "822c6966",
   "metadata": {},
   "source": [
    "self can included to access the class variables and instance variiables.\n"
   ]
  },
  {
   "cell_type": "markdown",
   "id": "79a7423a",
   "metadata": {},
   "source": [
    "# Q9. What is the difference between the _ _add_ _ and the _ _radd_ _ methods?"
   ]
  },
  {
   "cell_type": "markdown",
   "id": "db85751c",
   "metadata": {},
   "source": [
    "Entering __radd__ Python will first try __add__(), and if that returns Not Implemented Python will check if the right-hand operand implements __radd__, and if it does, it will call __radd__() rather than raising a TypeError"
   ]
  },
  {
   "cell_type": "markdown",
   "id": "e29d60b9",
   "metadata": {},
   "source": [
    "# Q10. When is it necessary to use a reflection method? When do you not need it, even though you support the operation in question?"
   ]
  },
  {
   "cell_type": "markdown",
   "id": "26323e2d",
   "metadata": {},
   "source": [
    "Reflection method we often encounter the requirement that a method in the executing object, or a variable in the calling object, or a field of the object should be assigned, while the method name or field name can not be determined when encoding the code, and need to be input in the form of passing strings through parameters."
   ]
  },
  {
   "cell_type": "markdown",
   "id": "b89383d3",
   "metadata": {},
   "source": [
    "# Q11. What is the _ _iadd_ _ method called?"
   ]
  },
  {
   "cell_type": "markdown",
   "id": "14939042",
   "metadata": {},
   "source": [
    "`__iadd__` method is called when we use implementation like a+=b which is `a.__iadd__(b)`"
   ]
  },
  {
   "cell_type": "code",
   "execution_count": 2,
   "id": "45d8cd25",
   "metadata": {},
   "outputs": [
    {
     "name": "stdout",
     "output_type": "stream",
     "text": [
      "5\n"
     ]
    }
   ],
   "source": [
    "class A:\n",
    "    def __init__(self,x):\n",
    "        self.x=x\n",
    "    def __iadd__(self,other):\n",
    "        self.x += other.x\n",
    "        return self.x\n",
    "obj1=A(2)\n",
    "obj2=A(3)\n",
    "obj1+=obj2\n",
    "print(obj1)"
   ]
  },
  {
   "cell_type": "markdown",
   "id": "f6a9daee",
   "metadata": {},
   "source": [
    "# Q12. Is the _ _init_ _ method inherited by subclasses? What do you do if you need to customize its behavior within a subclass?"
   ]
  },
  {
   "cell_type": "markdown",
   "id": "cd728a90",
   "metadata": {},
   "source": [
    "Yes, `__init__` method will be inherited by subclasses. if we want to customize its behaviour within a subclass we can use __super( )__ method."
   ]
  },
  {
   "cell_type": "code",
   "execution_count": 3,
   "id": "549e3328",
   "metadata": {},
   "outputs": [
    {
     "data": {
      "text/plain": [
       "7"
      ]
     },
     "execution_count": 3,
     "metadata": {},
     "output_type": "execute_result"
    }
   ],
   "source": [
    "class A:\n",
    "    def __init__(self,x):\n",
    "        self.x=x\n",
    "class B(A):\n",
    "    pass\n",
    "obj=B(2)\n",
    "obj.x \n",
    "\n",
    "#        here the value x is accessible to instance of class B which is subclass of class A.This means\n",
    "#        __init__ of class A is inherited in sub class B\n",
    "\n",
    "class C(A):\n",
    "    def __init__(self,x,y): # Here we are overloading the __init__ inherited from class A \n",
    "        self.x=x\n",
    "        self.y=y\n",
    "    def func(self):\n",
    "        return(self.x + self.y)\n",
    "obj1=C(3,4)\n",
    "obj1.func()"
   ]
  },
  {
   "cell_type": "code",
   "execution_count": null,
   "id": "3e173fc1",
   "metadata": {},
   "outputs": [],
   "source": []
  }
 ],
 "metadata": {
  "kernelspec": {
   "display_name": "Python 3 (ipykernel)",
   "language": "python",
   "name": "python3"
  },
  "language_info": {
   "codemirror_mode": {
    "name": "ipython",
    "version": 3
   },
   "file_extension": ".py",
   "mimetype": "text/x-python",
   "name": "python",
   "nbconvert_exporter": "python",
   "pygments_lexer": "ipython3",
   "version": "3.11.5"
  }
 },
 "nbformat": 4,
 "nbformat_minor": 5
}
