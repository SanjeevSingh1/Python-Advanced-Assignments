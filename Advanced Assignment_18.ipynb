{
 "cells": [
  {
   "cell_type": "markdown",
   "id": "9f2b170d",
   "metadata": {},
   "source": [
    "# Q1. Describe the differences between text and binary files in a single paragraph"
   ]
  },
  {
   "cell_type": "markdown",
   "id": "6e0d0005",
   "metadata": {},
   "source": [
    "__Text files__ are special subset of binary files that are used to store human readable characters as a rich text document or plain text document. Text files also store data in sequential bytes but bits in text file represents characters.\n",
    "\n",
    "__Binary files__ are those typical files that store data in the form of sequence of bytes grouped into eight bits or sometimes sixteen bits. These bits represent custom data and such files can store multiple types of data (images, audio, text, etc) under a single file."
   ]
  },
  {
   "cell_type": "markdown",
   "id": "993d9b92",
   "metadata": {},
   "source": [
    "# Q2. What are some scenarios where using text files will be the better option? When would you like to use binary files instead of text files?"
   ]
  },
  {
   "cell_type": "markdown",
   "id": "06988c09",
   "metadata": {},
   "source": [
    "Text files include small size and versatility. Kilobytes or megabytes smaller than the same data stored in other formats, they can be rapidly and massively exchanged via email or disk. Most can be opened on computers running diverse operating systems, using very basic software. \n",
    "\n",
    "Binary files is that they are more efficient. In terms of memory, storing values using numeric formats, rather than as text characters, tends to use less memory. In addition, binary formats also offer advantages in terms of speed of access."
   ]
  },
  {
   "cell_type": "markdown",
   "id": "b0ce3677",
   "metadata": {},
   "source": [
    "# Q3. What are some of the issues with using binary operations to read and write a Python integer directly to disc?"
   ]
  },
  {
   "cell_type": "markdown",
   "id": "5f081424",
   "metadata": {},
   "source": [
    "When we read or write a python integer using binary operations\n",
    "\n",
    "1. Binary operations deal with raw data\n",
    "\n",
    "2. One needs to identify how many bytes one would read or write."
   ]
  },
  {
   "cell_type": "markdown",
   "id": "8982f75b",
   "metadata": {},
   "source": [
    "# Q4. Describe a benefit of using the with keyword instead of explicitly opening a file ?\n"
   ]
  },
  {
   "cell_type": "markdown",
   "id": "1cfde391",
   "metadata": {},
   "source": [
    "When a file is opened using the 'with' keyword, if some exceptions occur after opening a file, or at the end of the file it automatically does the closing of the file. There by not leaving an file in open mode and there would no need to explicitly close a file."
   ]
  },
  {
   "cell_type": "markdown",
   "id": "64a8a46f",
   "metadata": {},
   "source": [
    "# Q5. Does Python have the trailing newline while reading a line of text? Does Python append a newline when you write a line of text?"
   ]
  },
  {
   "cell_type": "markdown",
   "id": "912a4cfd",
   "metadata": {},
   "source": [
    "While reading a newline of text from atext file, python reads the newline also.\n",
    "While writing the python doesnt append a new line at end of line. It has to be handled explicitly."
   ]
  },
  {
   "cell_type": "markdown",
   "id": "6af3099d",
   "metadata": {},
   "source": [
    "# Q6. What file operations enable for random-access operation?"
   ]
  },
  {
   "cell_type": "markdown",
   "id": "18fbc61a",
   "metadata": {},
   "source": [
    "The file operations enable for random-access operation are __seek( )__ and __tell( )__"
   ]
  },
  {
   "cell_type": "markdown",
   "id": "140439fb",
   "metadata": {},
   "source": [
    "# Q7. When do you think you'll use the struct package the most?\n"
   ]
  },
  {
   "cell_type": "code",
   "execution_count": 1,
   "id": "09d741b4",
   "metadata": {},
   "outputs": [
    {
     "data": {
      "text/plain": [
       "(155,)"
      ]
     },
     "execution_count": 1,
     "metadata": {},
     "output_type": "execute_result"
    }
   ],
   "source": [
    "'''The struct package is mostly used while converting a common python types into 'C' language types.This is done by packing python variables into data fields of specific sizes.So, when we try read , right number of bytes are\n",
    "read. This useful when interacting with existing binary files.\n",
    "Reading and writing a single integer using struct package'''\n",
    "\n",
    "from struct import pack, unpack, calcsize\n",
    "def write_file(fname,int_n):\n",
    "    with open(fname,'wb') as f:\n",
    "        bss=pack('h',int_n)\n",
    "        f.write(bss)\n",
    "def read_file(fname):\n",
    "    with open(fname,'rb') as rf:\n",
    "        bss=rf.read(calcsize('h'))\n",
    "        return unpack('h',bss)\n",
    "write_file('struct_file1.dat',155)\n",
    "read_file('struct_file1.dat')"
   ]
  },
  {
   "cell_type": "markdown",
   "id": "91ab73f8",
   "metadata": {},
   "source": [
    "# Q8. When is pickling the best option?\n"
   ]
  },
  {
   "cell_type": "markdown",
   "id": "2dfd93fc",
   "metadata": {},
   "source": [
    "Once a file is created it can be read by other python programs. The functions available in the pickle package take care how to represent the data is written in th file."
   ]
  },
  {
   "cell_type": "markdown",
   "id": "090f5922",
   "metadata": {},
   "source": [
    "# Q9. When will it be best to use the shelve package?\n"
   ]
  },
  {
   "cell_type": "markdown",
   "id": "f2d1be55",
   "metadata": {},
   "source": [
    "Shelve package is used to pickle data but treats the treats the entire file as dictionary. The location of any object is looked up according to its key and is returned easily."
   ]
  },
  {
   "cell_type": "markdown",
   "id": "7b6d7619",
   "metadata": {},
   "source": [
    "# Q10. What is a special restriction when using the shelve package, as opposed to using other data dictionaries?"
   ]
  },
  {
   "cell_type": "markdown",
   "id": "c306d2dc",
   "metadata": {},
   "source": [
    "A “shelf” is a persistent, dictionary-like object. The difference with “dbm” databases is that the values (not the keys!) in a shelf can be essentially arbitrary Python objects — anything that the pickle module can handle. This includes most class instances, recursive data types, and objects containing lots of shared  sub-objects. The keys are ordinary strings."
   ]
  },
  {
   "cell_type": "code",
   "execution_count": null,
   "id": "2ca2978e",
   "metadata": {},
   "outputs": [],
   "source": []
  }
 ],
 "metadata": {
  "kernelspec": {
   "display_name": "Python 3 (ipykernel)",
   "language": "python",
   "name": "python3"
  },
  "language_info": {
   "codemirror_mode": {
    "name": "ipython",
    "version": 3
   },
   "file_extension": ".py",
   "mimetype": "text/x-python",
   "name": "python",
   "nbconvert_exporter": "python",
   "pygments_lexer": "ipython3",
   "version": "3.11.5"
  }
 },
 "nbformat": 4,
 "nbformat_minor": 5
}
