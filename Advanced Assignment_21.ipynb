{
 "cells": [
  {
   "cell_type": "markdown",
   "id": "7e0aeb1a",
   "metadata": {},
   "source": [
    "# Q1. What is a probability distribution, exactly? If the values are meant to be random, how can you predict them at all?\n"
   ]
  },
  {
   "cell_type": "markdown",
   "id": "27873b25",
   "metadata": {},
   "source": [
    "A probability distribution describes how a random variable is distributed,it tells us which values a random variable is most likely to take on and which values are less likely.Based on the previous data and the occurences of the random event, we can predict the outcome in terms of probabilities."
   ]
  },
  {
   "cell_type": "markdown",
   "id": "f63e2a21",
   "metadata": {},
   "source": [
    "# Q2. Is there a distinction between true random numbers and pseudo-random numbers, if there is one? Why are the latter considered “good enough”?"
   ]
  },
  {
   "cell_type": "markdown",
   "id": "adc80887",
   "metadata": {},
   "source": [
    "The difference between true random number(TRN) and pseudo-random number(PRN), is that TRN's are unpredictable physical values means (like atmospheric noise), and PRN are generated using mathematical algorithms (completely computer-generated).The PRN's are good enough as they follow a uniform distribution and the seed for generating PRN is unpredictable and unknown."
   ]
  },
  {
   "cell_type": "markdown",
   "id": "fa5b03f6",
   "metadata": {},
   "source": [
    "# Q3. What are the two main factors that influence the behaviour of a \"normal\" probability distribution?"
   ]
  },
  {
   "cell_type": "markdown",
   "id": "c5f6ca6c",
   "metadata": {},
   "source": [
    "A normal distribution is determined by two parameters the mean and the variance. A normal distribution with a mean of 0 and a standard deviation of 1 is called a standard normal distribution."
   ]
  },
  {
   "cell_type": "markdown",
   "id": "8bf19155",
   "metadata": {},
   "source": [
    "# Q4. Provide a real-life example of a normal distribution.\n"
   ]
  },
  {
   "cell_type": "markdown",
   "id": "d17c2331",
   "metadata": {},
   "source": [
    "A fair rolling of dice is also a good example of normal distribution.\n"
   ]
  },
  {
   "cell_type": "markdown",
   "id": "3e39940b",
   "metadata": {},
   "source": [
    "# Q5. In the short term, how can you expect a probability distribution to behave? What do you think will happen as the number of trials grows?"
   ]
  },
  {
   "cell_type": "markdown",
   "id": "094a5932",
   "metadata": {},
   "source": [
    " When trails are less, the variance will large. As the number of trials increase , the variance will reduce.\n"
   ]
  },
  {
   "cell_type": "markdown",
   "id": "8ced51b6",
   "metadata": {},
   "source": [
    "# Q6. What kind of object can be shuffled by using random.shuffle?"
   ]
  },
  {
   "cell_type": "markdown",
   "id": "dad0ce9e",
   "metadata": {},
   "source": [
    "random.shuffle can used to shuffle list object\n"
   ]
  },
  {
   "cell_type": "markdown",
   "id": "b94fd412",
   "metadata": {},
   "source": [
    "# Q7. Describe the math package's general categories of functions."
   ]
  },
  {
   "cell_type": "markdown",
   "id": "075a99ac",
   "metadata": {},
   "source": [
    "The general categories of math package are\n",
    "\n",
    "1. Trigonometric functions\n",
    "2. Quadratic functions\n",
    "3. Exponential functions\n",
    "4. Hyperbolic functions\n",
    "5. Periodic functions\n",
    "6. Arithmetic functions\n",
    "7. Logarithimic functions\n",
    "8. Conversions to Integer"
   ]
  },
  {
   "cell_type": "markdown",
   "id": "db87b721",
   "metadata": {},
   "source": [
    "# Q8. What is the relationship between exponentiation and logarithms?"
   ]
  },
  {
   "cell_type": "markdown",
   "id": "de3bc93b",
   "metadata": {},
   "source": [
    "The exponential function is given by ƒ(x) = ex, whereas the logarithmic function is given by g(x) = ln x, and former is the inverse of the latter."
   ]
  },
  {
   "cell_type": "markdown",
   "id": "852ee842",
   "metadata": {},
   "source": [
    "# Q9. What are the three logarithmic functions that Python supports?"
   ]
  },
  {
   "cell_type": "markdown",
   "id": "fc29e646",
   "metadata": {},
   "source": [
    "1. `log2(x)` - logarithmic value of x to base 2\n",
    "2. `log10(x)` - logarithmic value of x to base 10\n",
    "3. `log(x,base)` - logarithmic value of x to base. If only first parameter is given , it computes its value tp base e,natural logarithm\n",
    "4. `log1p(x)` - natural logarithm (base e) value of 1+x"
   ]
  },
  {
   "cell_type": "code",
   "execution_count": null,
   "id": "1f8ffce5",
   "metadata": {},
   "outputs": [],
   "source": []
  }
 ],
 "metadata": {
  "kernelspec": {
   "display_name": "Python 3 (ipykernel)",
   "language": "python",
   "name": "python3"
  },
  "language_info": {
   "codemirror_mode": {
    "name": "ipython",
    "version": 3
   },
   "file_extension": ".py",
   "mimetype": "text/x-python",
   "name": "python",
   "nbconvert_exporter": "python",
   "pygments_lexer": "ipython3",
   "version": "3.11.5"
  }
 },
 "nbformat": 4,
 "nbformat_minor": 5
}
