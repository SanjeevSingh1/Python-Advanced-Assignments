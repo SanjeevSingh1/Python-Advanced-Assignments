{
 "cells": [
  {
   "cell_type": "markdown",
   "id": "b5bc3baf",
   "metadata": {},
   "source": [
    "# Q1. If you have any, what are your choices for increasing the comparison between different figures on the same graph?"
   ]
  },
  {
   "cell_type": "markdown",
   "id": "92b7da3b",
   "metadata": {},
   "source": [
    "Bar charts are good for comparisions, while line chart work better for trends. Scatter plot charts are good for relationships and distributions, pie charts should be used only for simple compositions - never for comparisons or distributions."
   ]
  },
  {
   "cell_type": "markdown",
   "id": "85578492",
   "metadata": {},
   "source": [
    "# Q2. Can you explain the benefit of compound interest over a higher rate of interest that does not compound after reading this chapter?"
   ]
  },
  {
   "cell_type": "markdown",
   "id": "c26ac6ca",
   "metadata": {},
   "source": [
    "Compound interest makes your money grow faster beacuse interest is calculated on the accumulated interest over time as well as on your original principle. Compounding can create a snowball effect, as the original investment plus the income earned from those investment grow togather."
   ]
  },
  {
   "cell_type": "markdown",
   "id": "14f2ff06",
   "metadata": {},
   "source": [
    "# Q3. What is a histogram, exactly? Name a numpy method for creating such a graph."
   ]
  },
  {
   "cell_type": "markdown",
   "id": "8470c411",
   "metadata": {},
   "source": [
    "Histogram is a type of a plot which holds the total number of counts or the percentile value in y-axis with respect to corresponding x-variables. when we say the number of counts it means that for a particular range in x-axis what will be number of counts of the data points. When we talk about percentile it shows the probability occurrence of the x-variable or what percentage of data are below that particular percetile value w.r.t. particular x-variable range. Numpy has a built-in numpy. histogram() function."
   ]
  },
  {
   "cell_type": "markdown",
   "id": "414e9f0c",
   "metadata": {},
   "source": [
    "# Q4. If necessary, how do you change the aspect ratios between the X and Y axes?"
   ]
  },
  {
   "cell_type": "markdown",
   "id": "98946e95",
   "metadata": {},
   "source": [
    "We can use figure(figsize=(10,8)) function inside the matplot.pyplot library which we scale down or up the graph.\n",
    "\n",
    "figure(figsize=(10,8))"
   ]
  },
  {
   "cell_type": "markdown",
   "id": "0532a789",
   "metadata": {},
   "source": [
    "# Q5. Compare and contrast the three types of array multiplication between two numpy arrays: dot product, outer product, and regular multiplication of two numpy arrays."
   ]
  },
  {
   "cell_type": "code",
   "execution_count": 1,
   "id": "02f1b58e",
   "metadata": {},
   "outputs": [
    {
     "name": "stdout",
     "output_type": "stream",
     "text": [
      "[[1 2 3]\n",
      " [4 5 6]\n",
      " [6 7 8]]\n",
      "[[10 15 20]\n",
      " [30 40 50]\n",
      " [50 60 70]]\n"
     ]
    }
   ],
   "source": [
    "import numpy as np\n",
    "\n",
    "a=np.array([[1,2,3],[4,5,6],[6,7,8]])\n",
    "b=np.array([[10,15,20],[30,40,50],[50,60,70]])\n",
    "\n",
    "print(a)\n",
    "print(b)"
   ]
  },
  {
   "cell_type": "code",
   "execution_count": 3,
   "id": "c7502044",
   "metadata": {},
   "outputs": [
    {
     "data": {
      "text/plain": [
       "array([[ 10,  30,  60],\n",
       "       [120, 200, 300],\n",
       "       [300, 420, 560]])"
      ]
     },
     "execution_count": 3,
     "metadata": {},
     "output_type": "execute_result"
    }
   ],
   "source": [
    "#standard multiplication\n",
    "a*b"
   ]
  },
  {
   "cell_type": "code",
   "execution_count": 5,
   "id": "24683dd9",
   "metadata": {},
   "outputs": [
    {
     "data": {
      "text/plain": [
       "array([[ 220,  275,  330],\n",
       "       [ 490,  620,  750],\n",
       "       [ 670,  850, 1030]])"
      ]
     },
     "execution_count": 5,
     "metadata": {},
     "output_type": "execute_result"
    }
   ],
   "source": [
    "\"\"\"When we do standard multiplication in that case values of the same indexes in the array will get multiply. \n",
    "Like in above example. A1(i,j) x A2(i,j)\"\"\"\n",
    "\n",
    "# dot product\n",
    "np.dot(a,b)"
   ]
  },
  {
   "cell_type": "code",
   "execution_count": 6,
   "id": "93ca4e60",
   "metadata": {},
   "outputs": [
    {
     "data": {
      "text/plain": [
       "array([[ 10,  15,  20,  30,  40,  50,  50,  60,  70],\n",
       "       [ 20,  30,  40,  60,  80, 100, 100, 120, 140],\n",
       "       [ 30,  45,  60,  90, 120, 150, 150, 180, 210],\n",
       "       [ 40,  60,  80, 120, 160, 200, 200, 240, 280],\n",
       "       [ 50,  75, 100, 150, 200, 250, 250, 300, 350],\n",
       "       [ 60,  90, 120, 180, 240, 300, 300, 360, 420],\n",
       "       [ 60,  90, 120, 180, 240, 300, 300, 360, 420],\n",
       "       [ 70, 105, 140, 210, 280, 350, 350, 420, 490],\n",
       "       [ 80, 120, 160, 240, 320, 400, 400, 480, 560]])"
      ]
     },
     "execution_count": 6,
     "metadata": {},
     "output_type": "execute_result"
    }
   ],
   "source": [
    "\"\"\"# In case of dot product vector, multiplication will take place between row of first array and column of secodn array \n",
    "respectively. Like first row of array a1 will be multiply by column value of array a2 one by one and then added.\"\"\"\n",
    "\n",
    "#outer multiplication\n",
    "np.outer(a,b)"
   ]
  },
  {
   "cell_type": "markdown",
   "id": "23caf28f",
   "metadata": {},
   "source": [
    "In outer multiplication every element of first array `'a'` will be multiply by every element of other array `'b'` such the number of columns will be equal to the number of element in another array `'b'`."
   ]
  },
  {
   "cell_type": "markdown",
   "id": "652ad487",
   "metadata": {},
   "source": [
    "# Q6. Before you buy a home, which numpy function will you use to measure your monthly mortgage payment?"
   ]
  },
  {
   "cell_type": "markdown",
   "id": "8f41a8f4",
   "metadata": {},
   "source": [
    "`np.pmt(rate, nper, pv)` function we will be using in order to calculate monthly mortgage payment before you purchase a house\n",
    "\n",
    "* `rate = The periodic interest rate`\n",
    "\n",
    "* `nper = The number of payment periods`\n",
    "\n",
    "* `pv = The total value of the mortgage loan`"
   ]
  },
  {
   "cell_type": "markdown",
   "id": "541658e2",
   "metadata": {},
   "source": [
    "# Q7. Can string data be stored in numpy arrays? If so, list at least one restriction that applies to this data."
   ]
  },
  {
   "cell_type": "markdown",
   "id": "d46259cd",
   "metadata": {},
   "source": [
    "Yes an array can store the string.The limitation which imposed on the string data is, whenever we store the data of string dtype then it should should keep in mind that the string which is having the maximum length is the limit. The dtype value is the maximum length of a string in such data. Meaning suppose if any new string we wanted to add, then we can add only that string which have the length either equal to that dtype value or less than that. If any string which are adding and if its length is more than the dtype value then it will only accpet to maximum length and rest of the characters will not be included."
   ]
  }
 ],
 "metadata": {
  "kernelspec": {
   "display_name": "Python 3 (ipykernel)",
   "language": "python",
   "name": "python3"
  },
  "language_info": {
   "codemirror_mode": {
    "name": "ipython",
    "version": 3
   },
   "file_extension": ".py",
   "mimetype": "text/x-python",
   "name": "python",
   "nbconvert_exporter": "python",
   "pygments_lexer": "ipython3",
   "version": "3.11.5"
  }
 },
 "nbformat": 4,
 "nbformat_minor": 5
}
