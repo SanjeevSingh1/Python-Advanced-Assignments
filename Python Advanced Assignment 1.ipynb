{
 "cells": [
  {
   "cell_type": "markdown",
   "id": "22c5d503",
   "metadata": {},
   "source": [
    "# Q1. What is the purpose of Python&#39;s OOP?"
   ]
  },
  {
   "cell_type": "markdown",
   "id": "ddbc6b35",
   "metadata": {},
   "source": [
    "Object-oriented programming is a programming paradigm that provides a means of structuring programs so that properties and behaviors are bundled into individual objects\n",
    "\n",
    "* In Python, object-oriented Programming (OOPs) uses objects and classes in programming.\n",
    "* It aims to implement real-world entities like inheritance, polymorphisms, encapsulation, etc. in the programming.\n",
    "* The main concept of OOPs is to bind the data and the functions that work on that together as a single unit so that no other part of the code can access this data.\n",
    "* It comes up with the following advantages:\n",
    "* It helps to divide our over all program into different small segments and thus making it solving easy with the use of objects\n",
    "* Helps in easy maintenance and modification of existing program\n",
    "* Multiple instances of an object can be made."
   ]
  },
  {
   "cell_type": "markdown",
   "id": "803d36c3",
   "metadata": {},
   "source": [
    "# Q2. Where does an inheritance search look for an attribute?"
   ]
  },
  {
   "cell_type": "markdown",
   "id": "46d84911",
   "metadata": {},
   "source": [
    "Python searches for an attribute in an upward tree of attributes. it first searches for the attribute in its instance and then looks in the class it is generated from, to all super classes listed in its class header"
   ]
  },
  {
   "cell_type": "markdown",
   "id": "f2c4615d",
   "metadata": {},
   "source": [
    "# Q3. How do you distinguish between a class object and an instance object?"
   ]
  },
  {
   "cell_type": "markdown",
   "id": "cf9172a1",
   "metadata": {},
   "source": [
    "The differences between a class object and an instance object are:\n",
    "\n",
    "1. A class serves as a blueprint or template for creating objects.\n",
    "2. It defines the structure, attributes, and methods that objects of that class will have.\n",
    "3. A class encapsulates common behavior and data.\n",
    "4. Seperate memory is allocated for each object whenever an object is created. but for a class it doesnot happens.\n",
    "5. A Class is created once. Many objects are created using a class.\n",
    "6. As Classes have no allocated memory, they can't be manipulated but objects can be manipulated.\n",
    "7. Example: If you define a Car class, it describes what a car should have (e.g., wheels, engine, color).\n",
    "8. When you create an object from a class, memory is allocated to store its data.\n",
    "9. Each object has its own unique memory space.\n",
    "10. You can create multiple instances from the same class.\n"
   ]
  },
  {
   "cell_type": "markdown",
   "id": "665629bd",
   "metadata": {},
   "source": [
    "# Q4. What makes the first argument in a class’s method function special?"
   ]
  },
  {
   "cell_type": "markdown",
   "id": "c7a14f83",
   "metadata": {},
   "source": [
    "Python Classes usually have three types of methods which are:\n",
    "\n",
    "* Instance Methods (object level methods)\n",
    "* Class Methods (class level methods)\n",
    "* Static Methods (general utility methods)\n",
    "* `self` is the first argument for instance methods. which refers to the object itself\n",
    "* `cls` is the first argument for class methods which refers to the class itself"
   ]
  },
  {
   "cell_type": "markdown",
   "id": "48d10350",
   "metadata": {},
   "source": [
    "# Q5. What is the purpose of the __init__ method?"
   ]
  },
  {
   "cell_type": "markdown",
   "id": "a81ed383",
   "metadata": {},
   "source": [
    "`__init__` is a reseved method in python classes. It serves the role of a __constructor__ in object oriented terminology. This method is called when an object is created from a class and it allows the class to initialize the attributes of the class"
   ]
  },
  {
   "cell_type": "markdown",
   "id": "14d6429d",
   "metadata": {},
   "source": [
    "# Q6. What is the process for creating a class instance?"
   ]
  },
  {
   "cell_type": "markdown",
   "id": "6f867e5f",
   "metadata": {},
   "source": [
    "To create a class instance, we need to call the class by its name and pass the arguments to the class, which its init method accepts.\n",
    "\n",
    "Example: `my_name = my_class(\"Sanju\",\"Manju\")` Here `my_name` is an instance of class `my_class` with attributes \"Sanju\" and \"Manju\"."
   ]
  },
  {
   "cell_type": "markdown",
   "id": "3a75920e",
   "metadata": {},
   "source": [
    "# Q7. What is the process for creating a class?"
   ]
  },
  {
   "cell_type": "markdown",
   "id": "55c6720b",
   "metadata": {},
   "source": [
    "class keyword is used to created a class in python. The syntax to create a class in python is --> __`class <classname>:`__\n",
    "\n",
    "Example: `class Car:` ➞ this creates a class called Car"
   ]
  },
  {
   "cell_type": "markdown",
   "id": "f6076af2",
   "metadata": {},
   "source": [
    "# Q8. How would you define the superclasses of a class?"
   ]
  },
  {
   "cell_type": "markdown",
   "id": "44a55f46",
   "metadata": {},
   "source": [
    "Superclass/Parent class is given as a arugment to the child class\n",
    "\n",
    "Example: `class Employee(Person):` Here child class `Employee` inherits attributes and methofs from Superclass/Parent `Person`"
   ]
  },
  {
   "cell_type": "code",
   "execution_count": null,
   "id": "4a13ebeb",
   "metadata": {},
   "outputs": [],
   "source": []
  }
 ],
 "metadata": {
  "kernelspec": {
   "display_name": "Python 3 (ipykernel)",
   "language": "python",
   "name": "python3"
  },
  "language_info": {
   "codemirror_mode": {
    "name": "ipython",
    "version": 3
   },
   "file_extension": ".py",
   "mimetype": "text/x-python",
   "name": "python",
   "nbconvert_exporter": "python",
   "pygments_lexer": "ipython3",
   "version": "3.11.5"
  }
 },
 "nbformat": 4,
 "nbformat_minor": 5
}
