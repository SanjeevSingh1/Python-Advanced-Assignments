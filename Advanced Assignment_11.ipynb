{
 "cells": [
  {
   "cell_type": "markdown",
   "id": "7c75fbed",
   "metadata": {},
   "source": [
    "# Q1. What is the concept of a metaclass?\n"
   ]
  },
  {
   "cell_type": "markdown",
   "id": "3852d056",
   "metadata": {},
   "source": [
    "Metaclass in Python is a class of a class that defines how a class behaves. A class is itself a instance of Metaclass, and any Instance of Class in Python is an Instance of type metaclass. E.g. Type of  `int`, `str`, `float`, `list`, `tuple` and many more is of metaclass type."
   ]
  },
  {
   "cell_type": "markdown",
   "id": "87c28e2a",
   "metadata": {},
   "source": [
    "# Q2. What is the best way to declare a class&#39;s metaclass?"
   ]
  },
  {
   "cell_type": "markdown",
   "id": "3dbe2e27",
   "metadata": {},
   "source": [
    "A way to declare a class’ metaclass is by using __`metaclass`__ keyword in class definition."
   ]
  },
  {
   "cell_type": "code",
   "execution_count": 1,
   "id": "aad2da1b",
   "metadata": {},
   "outputs": [
    {
     "name": "stdout",
     "output_type": "stream",
     "text": [
      "<class 'type'>\n",
      "<class '__main__.meta'>\n"
     ]
    }
   ],
   "source": [
    "class meta(type):\n",
    "    pass\n",
    "class class_meta(metaclass=meta):\n",
    "    pass\n",
    "print(type(meta))\n",
    "print(type(class_meta))"
   ]
  },
  {
   "cell_type": "markdown",
   "id": "0559e5ab",
   "metadata": {},
   "source": [
    "# Q3. How do class decorators overlap with metaclasses for handling classes?"
   ]
  },
  {
   "cell_type": "markdown",
   "id": "09fe0070",
   "metadata": {},
   "source": [
    " Anything you can do with a class decorator, you can of course do with a custom metaclasses (just apply the functionality of the \"decorator function\", i.e., the one that takes a class object and modifies it, in the course of the metaclass's `__new__` or `__init__` that make the class object!)."
   ]
  },
  {
   "cell_type": "markdown",
   "id": "010fb88e",
   "metadata": {},
   "source": [
    "#  Q4. How do class decorators overlap with metaclasses for handling instances?"
   ]
  },
  {
   "cell_type": "markdown",
   "id": "8c44f58a",
   "metadata": {},
   "source": [
    "Anything you can do with a class decorator, you can of course do with a custom metaclass (just apply the functionality of the \"decorator function\", i.e., the one that takes a class object and modifies it, in the course of the metaclass's `__new__` or `__init__` that make the class object!)."
   ]
  },
  {
   "cell_type": "code",
   "execution_count": null,
   "id": "e41b4278",
   "metadata": {},
   "outputs": [],
   "source": []
  }
 ],
 "metadata": {
  "kernelspec": {
   "display_name": "Python 3 (ipykernel)",
   "language": "python",
   "name": "python3"
  },
  "language_info": {
   "codemirror_mode": {
    "name": "ipython",
    "version": 3
   },
   "file_extension": ".py",
   "mimetype": "text/x-python",
   "name": "python",
   "nbconvert_exporter": "python",
   "pygments_lexer": "ipython3",
   "version": "3.11.5"
  }
 },
 "nbformat": 4,
 "nbformat_minor": 5
}
