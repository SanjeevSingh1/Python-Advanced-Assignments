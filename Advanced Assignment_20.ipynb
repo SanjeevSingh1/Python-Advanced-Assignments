{
 "cells": [
  {
   "cell_type": "markdown",
   "id": "a6a39050",
   "metadata": {},
   "source": [
    "# 1. Compare and contrast the float and Decimal classes' benefits and drawbacks ?\n"
   ]
  },
  {
   "cell_type": "markdown",
   "id": "8d55b7f3",
   "metadata": {},
   "source": [
    "Both the float and decimal types store numerical values in Python.\n",
    "\n",
    "Use floats when convenience and speed matter. A float gives you an approximation of the number you declare.\n",
    "\n",
    "Use decimals when precision matters. Decimals can suffer from their own precision issues, but generally, decimals are more precise than floats. The performance difference between float and decimal, with Python 3, is not outlandish, and in my experience, the precision benefits of a decimal outweigh the performance benefits of a float."
   ]
  },
  {
   "cell_type": "code",
   "execution_count": 2,
   "id": "6b4323c9",
   "metadata": {},
   "outputs": [
    {
     "name": "stdout",
     "output_type": "stream",
     "text": [
      "Context(prec=28, rounding=ROUND_HALF_EVEN, Emin=-999999, Emax=999999, capitals=1, clamp=0, flags=[], traps=[InvalidOperation, DivisionByZero, Overflow])\n",
      "d= 0.01818181818181818181818181818\n",
      "e= 0.018182\n"
     ]
    }
   ],
   "source": [
    "import decimal\n",
    "from decimal import Decimal\n",
    "print(decimal.getcontext())\n",
    "d = Decimal(1) / Decimal (55)\n",
    "print(\"d=\",d)\n",
    "decimal.getcontext().prec = 5  # lower precision \n",
    "e=Decimal(1)/Decimal(55)\n",
    "print(\"e=\",e)\n",
    "#       The precision can in this way be adjusted to the exact problem at hand and one can operate\n",
    "#       with floating-point objects that exhibit different degrees of accuracy."
   ]
  },
  {
   "cell_type": "markdown",
   "id": "bd69a711",
   "metadata": {},
   "source": [
    "# 2. Decimal(&#39;1.200&#39;) and Decimal(&#39;1.2&#39;) are two objects to consider. In what sense are these the same object? Are these just two ways of representing the exact same value, or do they correspond to different internal states?"
   ]
  },
  {
   "cell_type": "code",
   "execution_count": 3,
   "id": "26178723",
   "metadata": {},
   "outputs": [
    {
     "name": "stdout",
     "output_type": "stream",
     "text": [
      "1.200\n",
      "1.2\n"
     ]
    }
   ],
   "source": [
    "# Though they are identical value wise, internal representation or internal state of these two values are different, as they have decimal values of different precisions. \n",
    "\n",
    "print(Decimal('1.200'))\n",
    "print(Decimal('1.2'))"
   ]
  },
  {
   "cell_type": "markdown",
   "id": "531bfc09",
   "metadata": {},
   "source": [
    "# 3. What happens if the equality of Decimal(&#39;1.200&#39;) and Decimal(&#39;1.2&#39;) is checked?"
   ]
  },
  {
   "cell_type": "code",
   "execution_count": 4,
   "id": "c8a53b33",
   "metadata": {},
   "outputs": [
    {
     "name": "stdout",
     "output_type": "stream",
     "text": [
      "True\n"
     ]
    }
   ],
   "source": [
    "# It returns that the values are stored are True.\n",
    "\n",
    "print(Decimal('1.200') == Decimal('1.2'))\n"
   ]
  },
  {
   "cell_type": "markdown",
   "id": "1aa7b783",
   "metadata": {},
   "source": [
    "# 4. Why is it preferable to start a Decimal object with a string rather than a floating-point value?"
   ]
  },
  {
   "cell_type": "code",
   "execution_count": 6,
   "id": "49089c09",
   "metadata": {},
   "outputs": [
    {
     "name": "stdout",
     "output_type": "stream",
     "text": [
      "0.299999999999999988897769753748434595763683319091796875\n",
      "0.3\n"
     ]
    }
   ],
   "source": [
    "'''\n",
    "Floating-point value is converted to Decimal format. Decimal can store float value with absolute precision. \n",
    "But when float value is given as Decimal object,it first has to be converted from \n",
    "floating point value which might already have rounding error. Hence it is preferable to start a Decimal object with a string.\n",
    "'''\n",
    "\n",
    "#       Example is as follows : \n",
    "\n",
    "import decimal\n",
    "from decimal import Decimal\n",
    "a=Decimal(0.3) #0.3 is a float\n",
    "print(a) # It is not stored exactly as 0.3 but as printed.\n",
    "b=Decimal('0.3') #'0.3' is a string\n",
    "print(b) #It exactly prints 0.3, precisely, with correct precision."
   ]
  },
  {
   "cell_type": "markdown",
   "id": "7c5f217a",
   "metadata": {},
   "source": [
    "# 5. In an arithmetic phrase, how simple is it to combine Decimal objects with integers?"
   ]
  },
  {
   "cell_type": "code",
   "execution_count": 7,
   "id": "7f440dd3",
   "metadata": {},
   "outputs": [
    {
     "name": "stdout",
     "output_type": "stream",
     "text": [
      "<class 'int'>\n",
      "2\n",
      "4\n"
     ]
    }
   ],
   "source": [
    "val=2\n",
    "print(type(val))\n",
    "a=Decimal(val)\n",
    "print(a)\n",
    "b=a*Decimal(val)\n",
    "print(b)"
   ]
  },
  {
   "cell_type": "markdown",
   "id": "f6bd5e14",
   "metadata": {},
   "source": [
    "# 6. Can Decimal objects and floating-point values be combined easily?"
   ]
  },
  {
   "cell_type": "code",
   "execution_count": 10,
   "id": "6f4f44f5",
   "metadata": {},
   "outputs": [
    {
     "name": "stdout",
     "output_type": "stream",
     "text": [
      "Muliplication: 0.060000\n"
     ]
    },
    {
     "ename": "TypeError",
     "evalue": "unsupported operand type(s) for *: 'decimal.Decimal' and 'float'",
     "output_type": "error",
     "traceback": [
      "\u001b[1;31m---------------------------------------------------------------------------\u001b[0m",
      "\u001b[1;31mTypeError\u001b[0m                                 Traceback (most recent call last)",
      "Cell \u001b[1;32mIn[10], line 11\u001b[0m\n\u001b[0;32m      9\u001b[0m b\u001b[38;5;241m=\u001b[39mDecimal(val)\n\u001b[0;32m     10\u001b[0m \u001b[38;5;28mprint\u001b[39m(\u001b[38;5;124m\"\u001b[39m\u001b[38;5;124mMuliplication:\u001b[39m\u001b[38;5;124m\"\u001b[39m,Decimal(\u001b[38;5;124m'\u001b[39m\u001b[38;5;124m0.2\u001b[39m\u001b[38;5;124m'\u001b[39m)\u001b[38;5;241m*\u001b[39mb ) \u001b[38;5;66;03m# Multiplying a decimal object with float value converted to Decimal\u001b[39;00m\n\u001b[1;32m---> 11\u001b[0m \u001b[38;5;28mprint\u001b[39m(Decimal(\u001b[38;5;124m'\u001b[39m\u001b[38;5;124m0.2\u001b[39m\u001b[38;5;124m'\u001b[39m)\u001b[38;5;241m*\u001b[39mval)\n",
      "\u001b[1;31mTypeError\u001b[0m: unsupported operand type(s) for *: 'decimal.Decimal' and 'float'"
     ]
    }
   ],
   "source": [
    "'''\n",
    "Arithmetic operfations like Adding,subtracting or multiplying a Decimal object by a floating-point value is \n",
    "generates an error. To do these operations, the floating point has to be converted to a Decimal object—for \n",
    "example, converting from a floating-point value and then rounding. Else, arithmetic operations between the two\n",
    "types cause runtime errors.\n",
    "'''\n",
    "\n",
    "val=0.3\n",
    "b=Decimal(val)\n",
    "print(\"Muliplication:\",Decimal('0.2')*b ) # Multiplying a decimal object with float value converted to Decimal\n",
    "print(Decimal('0.2')*val)# Error when Decimal obeject is multiplied by a float"
   ]
  },
  {
   "cell_type": "markdown",
   "id": "c594cf62",
   "metadata": {},
   "source": [
    "# 7. Using the Fraction class but not the Decimal class, give an example of a quantity that can be expressed with absolute precision."
   ]
  },
  {
   "cell_type": "code",
   "execution_count": 11,
   "id": "90cb1437",
   "metadata": {},
   "outputs": [
    {
     "name": "stdout",
     "output_type": "stream",
     "text": [
      "1/2\n"
     ]
    }
   ],
   "source": [
    "from fractions import Fraction\n",
    "val=0.5\n",
    "fr=Fraction(val)\n",
    "print(fr)"
   ]
  },
  {
   "cell_type": "markdown",
   "id": "24aa18d7",
   "metadata": {},
   "source": [
    "# 8. Describe a quantity that can be accurately expressed by the Decimal or Fraction classes but not by a floating-point value."
   ]
  },
  {
   "cell_type": "code",
   "execution_count": 12,
   "id": "b55a5bc1",
   "metadata": {},
   "outputs": [
    {
     "name": "stdout",
     "output_type": "stream",
     "text": [
      "decimal= 0.01\n",
      "fraction= 1/100\n",
      "float value= 0.010000000000000002\n"
     ]
    }
   ],
   "source": [
    "d=Decimal('0.1') * Decimal('0.1')\n",
    "print(\"decimal=\",d)\n",
    "frac=Fraction('1/10') * Fraction('1/10')\n",
    "print(\"fraction=\",frac)\n",
    "fl=0.1*0.1\n",
    "print(\"float value=\",fl)"
   ]
  },
  {
   "cell_type": "markdown",
   "id": "5b3a9d07",
   "metadata": {},
   "source": [
    "# Q9.Consider the following two fraction objects: Fraction(1, 2) and Fraction(1, 2). (5, 10). Is the internal state of these two objects the same? Why do you think that is?"
   ]
  },
  {
   "cell_type": "code",
   "execution_count": 13,
   "id": "45d6f832",
   "metadata": {},
   "outputs": [
    {
     "name": "stdout",
     "output_type": "stream",
     "text": [
      "1/2\n",
      "1/2\n",
      "Fraction (1,2) and Fraction(5,10) are equal\n"
     ]
    }
   ],
   "source": [
    "frac1=Fraction(1, 2)\n",
    "print(frac1)\n",
    "frac2=Fraction(5, 10)\n",
    "print(frac2)\n",
    "if (frac1 == frac2 ):\n",
    "    print('Fraction (1,2) and Fraction(5,10) are equal')\n",
    "#    The internal state of both are same as Fraction(5,10) is reduced to simplest form. \n",
    "#    Hence 1/2 is printed in both the cases."
   ]
  },
  {
   "cell_type": "markdown",
   "id": "be563450",
   "metadata": {},
   "source": [
    "# Q10. How do the Fraction class and the integer type (int) relate to each other? Containment or inheritance?"
   ]
  },
  {
   "cell_type": "code",
   "execution_count": 14,
   "id": "9f632117",
   "metadata": {},
   "outputs": [
    {
     "name": "stdout",
     "output_type": "stream",
     "text": [
      "numerator is 1 <class 'int'>\n",
      "denominator is 2 <class 'int'>\n"
     ]
    }
   ],
   "source": [
    "# Fraction class and integer type(int) are related in form of a container.\n",
    "# It contains two ints, one the numerator and the other the denominator.\n",
    "\n",
    "\n",
    "frac = Fraction(1,2)\n",
    "print('numerator is', frac.numerator,type(frac.numerator))\n",
    "print('denominator is', frac.denominator,type(frac.numerator) )"
   ]
  },
  {
   "cell_type": "code",
   "execution_count": null,
   "id": "75dfeea0",
   "metadata": {},
   "outputs": [],
   "source": []
  }
 ],
 "metadata": {
  "kernelspec": {
   "display_name": "Python 3 (ipykernel)",
   "language": "python",
   "name": "python3"
  },
  "language_info": {
   "codemirror_mode": {
    "name": "ipython",
    "version": 3
   },
   "file_extension": ".py",
   "mimetype": "text/x-python",
   "name": "python",
   "nbconvert_exporter": "python",
   "pygments_lexer": "ipython3",
   "version": "3.11.5"
  }
 },
 "nbformat": 4,
 "nbformat_minor": 5
}
