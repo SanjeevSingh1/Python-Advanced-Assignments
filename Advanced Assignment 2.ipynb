{
 "cells": [
  {
   "cell_type": "markdown",
   "id": "aed7482b",
   "metadata": {},
   "source": [
    "# Q1. What is the relationship between classes and modules?"
   ]
  },
  {
   "cell_type": "markdown",
   "id": "34398441",
   "metadata": {},
   "source": [
    " A Python class is like an outline/blueprint/mold for creating a new object. An object is anything that you wish to manipulate or change while working through the code. Every time a class object is instantiated, which is when we declare a variable, a new object is initiated from scratch\n",
    "\n",
    "Whereas in Python, Modules are simply files with the `__. py__` extension containing Python code that can be imported inside another Python Program. In simple terms, we can consider a module to be the same as a code library or a file that contains a set of functions/Classes that you want to include in your application."
   ]
  },
  {
   "cell_type": "markdown",
   "id": "844bfff7",
   "metadata": {},
   "source": [
    "# Q2. How do you make instances and classes?"
   ]
  },
  {
   "cell_type": "markdown",
   "id": "f5859833",
   "metadata": {},
   "source": [
    "For creating a class instance. we call a class by its name and pass the arguments which its `__init__` method accepts.\n",
    "\n",
    "Example: sonu = employee('Male',20000), Here vishwak is an instance of class employee with attriubutes 'Male' and 20000.\n",
    "\n",
    "Whereas for creating a class, we use the Class keyword. `__Class__` keyword is followed by classname and semicolon.\n",
    "\n",
    "Example: Here Employee is a class created with class keyword with arguments gender and salary.\n",
    "\n",
    "class Employee:     \n",
    "->    def `__init__`(self, gender,salary):         \n",
    "----->        self.gender = gender         \n",
    "----->        self.salary = salary"
   ]
  },
  {
   "cell_type": "markdown",
   "id": "670907ac",
   "metadata": {},
   "source": [
    "# Q3. Where and how should be class attributes created?"
   ]
  },
  {
   "cell_type": "markdown",
   "id": "84411d1e",
   "metadata": {},
   "source": [
    "Class attributes or Class level Attributes belong to the class itself. these attributes will be shared by all the instances of the class. Hence these attributes are usually created/defined in the top of class definiation outside all methods.\n",
    "\n",
    "Example: In the below code we are defining a class attribute called no_of_wheels which will be shared by all the instances of the class Car\n",
    "\n",
    "class Car:     no_of_wheels = 4; # this is a class attribute     \n",
    "--->    def `__init__`(self,color,price,engine):         \n",
    "----->        self.color = color # All this are instance attributes         \n",
    "----->        self.price = price         \n",
    "----->        self.engine = engine"
   ]
  },
  {
   "cell_type": "markdown",
   "id": "1462102f",
   "metadata": {},
   "source": [
    "# Q4. Where and how are instance attributes created?"
   ]
  },
  {
   "cell_type": "markdown",
   "id": "9c000093",
   "metadata": {},
   "source": [
    "Instances attributes are passed to the class when an object of the class is created. Unlike class attributes, instance attributes are not shared by all objects of the classs. instead each object maintains its own copy of instance attributes at object level. whereas incase of class attributes all instances of class refer to a single copy. Usually instance attributes are defined within the `__init__` method of class\n",
    "\n",
    "__Example:__ In the below sample code we are creating a class Car with instance varaibles color, price, engine, which will be provided when an instance of class Car is created.\n",
    "\n",
    "class Car:     \n",
    "-->    def `__init__`(self,color,price,engine):         \n",
    "----->    self.color = color # All this are instance attributes         \n",
    "----->    self.price = price         \n",
    "----->    self.engine = engine \n",
    "\n",
    "nexon_ev = Car('Indigo Blue', 1400000, 'electric')\n",
    "safari = Car('Pearl White',2100000, 'petrol')\n",
    "\n",
    "nexon_ev, safari are both the instances of class Car with different instance variables."
   ]
  },
  {
   "cell_type": "markdown",
   "id": "5f2efb7b",
   "metadata": {},
   "source": [
    "# Q5. What does the term \"self\" in a Python class mean?"
   ]
  },
  {
   "cell_type": "markdown",
   "id": "372a5535",
   "metadata": {},
   "source": [
    "`self` represents the instance of the class (it represents the object itself). By using the “self” keyword we can access the attributes and methods of the class with in the class in python. It binds the attributes with the given arguments.\n"
   ]
  },
  {
   "cell_type": "code",
   "execution_count": 1,
   "id": "72b2b651",
   "metadata": {},
   "outputs": [
    {
     "name": "stdout",
     "output_type": "stream",
     "text": [
      "{'color': 'Indigo Blue', 'price': 1400000, 'engine': 'electric'}\n",
      "{'color': 'Pearl White', 'price': 2100000, 'engine': 'petrol'}\n"
     ]
    }
   ],
   "source": [
    "class Car:\n",
    "    def __init__(self,color,price,engine):\n",
    "        self.color = color # All this are instance attributes\n",
    "        self.price = price\n",
    "        self.engine = engine\n",
    "\n",
    "nexon_ev = Car('Indigo Blue', 1400000, 'electric')\n",
    "safari = Car('Pearl White',2100000, 'petrol')\n",
    "\n",
    "print(nexon_ev.__dict__)\n",
    "print(safari.__dict__)"
   ]
  },
  {
   "cell_type": "markdown",
   "id": "011be966",
   "metadata": {},
   "source": [
    "# Q6. How does a Python class handle operator overloading?"
   ]
  },
  {
   "cell_type": "markdown",
   "id": "da447185",
   "metadata": {},
   "source": [
    "Python Classes handle operator overloading by using special methods called __Magic methods__. these special methods usually begin and end with __ (double underscore)\n"
   ]
  },
  {
   "cell_type": "markdown",
   "id": "b05a339b",
   "metadata": {},
   "source": [
    "Example: Magic methods for basic arithmetic operators are:\n",
    "\n",
    " 1. `+ -> __add__()`\n",
    " 2. `- -> __sub__()`\n",
    " 3. `* -> __mul__()`\n",
    " 4. `/ -> __div__()`\n"
   ]
  },
  {
   "cell_type": "code",
   "execution_count": 5,
   "id": "735d0159",
   "metadata": {},
   "outputs": [
    {
     "name": "stdout",
     "output_type": "stream",
     "text": [
      "The total number of pages in 2 books is 300\n"
     ]
    }
   ],
   "source": [
    "class Book:\n",
    "    def __init__(self,pages):\n",
    "        self.pages = pages\n",
    "    def __add__(self,other):\n",
    "        return self.pages + other.pages\n",
    "b1 = Book(100)\n",
    "b2 = Book(200)\n",
    "print(f'The total number of pages in 2 books is {b1+b2}')"
   ]
  },
  {
   "cell_type": "markdown",
   "id": "a2dccb1d",
   "metadata": {},
   "source": [
    "# Q7. When do you consider allowing operator overloading of your classes?"
   ]
  },
  {
   "cell_type": "markdown",
   "id": "1a27b5af",
   "metadata": {},
   "source": [
    "when we want to have different meaning for the same operator accroding to the context we use operator overloading."
   ]
  },
  {
   "cell_type": "markdown",
   "id": "e9607b4f",
   "metadata": {},
   "source": [
    "# Q8. What is the most popular form of operator overloading?\n"
   ]
  },
  {
   "cell_type": "markdown",
   "id": "e73b39d9",
   "metadata": {},
   "source": [
    "The most popular form of operator overloading in python is by special methods called __Magic methods__. Which usually beign and end with double underscore `__<method name>__`."
   ]
  },
  {
   "cell_type": "code",
   "execution_count": 6,
   "id": "da04a8a4",
   "metadata": {},
   "outputs": [
    {
     "name": "stdout",
     "output_type": "stream",
     "text": [
      "Sum -> 3\n",
      "String Concatenation -> Mano Vishnu\n"
     ]
    }
   ],
   "source": [
    "class A:\n",
    "    def __init__(self,a):\n",
    "        self.a = a\n",
    "    def __add__(self,o):\n",
    "        return self.a+o.a\n",
    "obj1 = A(1)\n",
    "obj2 = A(2)\n",
    "obj3 = A('Mano')\n",
    "obj4 = A(' Vishnu')\n",
    "print(f'Sum -> {obj1+obj2}')\n",
    "print(f'String Concatenation -> {obj3+obj4}')"
   ]
  },
  {
   "cell_type": "markdown",
   "id": "cde1f7ba",
   "metadata": {},
   "source": [
    "# Q9. What are the two most important concepts to grasp in order to comprehend Python OOP code?\n"
   ]
  },
  {
   "cell_type": "markdown",
   "id": "6fb757f6",
   "metadata": {},
   "source": [
    "__Classes__ and __objects__ are the two concepts to comprehend python OOP code as more formally objects are entities that represent instances of general abstract concept called class\n",
    "\n",
    "Along with classes and objects the important concepts to grasp are:\n",
    "\n",
    "1. Inheritence\n",
    "2. Abstraction\n",
    "3. Polymorphism\n",
    "4. Encapsulation"
   ]
  },
  {
   "cell_type": "code",
   "execution_count": null,
   "id": "9c4846db",
   "metadata": {},
   "outputs": [],
   "source": []
  }
 ],
 "metadata": {
  "kernelspec": {
   "display_name": "Python 3 (ipykernel)",
   "language": "python",
   "name": "python3"
  },
  "language_info": {
   "codemirror_mode": {
    "name": "ipython",
    "version": 3
   },
   "file_extension": ".py",
   "mimetype": "text/x-python",
   "name": "python",
   "nbconvert_exporter": "python",
   "pygments_lexer": "ipython3",
   "version": "3.11.5"
  }
 },
 "nbformat": 4,
 "nbformat_minor": 5
}
